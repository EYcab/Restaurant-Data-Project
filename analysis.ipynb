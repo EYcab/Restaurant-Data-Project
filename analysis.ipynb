{
 "cells": [
  {
   "cell_type": "code",
   "execution_count": 8,
   "metadata": {
    "collapsed": true
   },
   "outputs": [],
   "source": [
    "import pandas as pd\n",
    "import numpy as np\n",
    "from pandas import Series,DataFrame\n",
    "import matplotlib.pyplot as plt\n",
    "import seaborn as sns\n",
    "sns.set_style('whitegrid')\n",
    "%matplotlib inline\n",
    "\n",
    "from sklearn.cross_validation import train_test_split\n",
    "\n",
    "# Dataset Import\n",
    "import statsmodels.api as sm"
   ]
  },
  {
   "cell_type": "code",
   "execution_count": 2,
   "metadata": {
    "collapsed": true
   },
   "outputs": [],
   "source": [
    "xls_file = pd.ExcelFile(\"data/Restaurant_Data.xlsx\")"
   ]
  },
  {
   "cell_type": "code",
   "execution_count": 5,
   "metadata": {
    "collapsed": false
   },
   "outputs": [],
   "source": [
    "r = xls_file.parse('game_revenue_table')"
   ]
  },
  {
   "cell_type": "code",
   "execution_count": 6,
   "metadata": {
    "collapsed": false,
    "scrolled": true
   },
   "outputs": [
    {
     "data": {
      "text/html": [
       "<div>\n",
       "<table border=\"1\" class=\"dataframe\">\n",
       "  <thead>\n",
       "    <tr style=\"text-align: right;\">\n",
       "      <th></th>\n",
       "      <th>Restaurant_Name</th>\n",
       "      <th>Date</th>\n",
       "      <th>Year</th>\n",
       "      <th>Month</th>\n",
       "      <th>Net_Sales</th>\n",
       "      <th>POS_Checks</th>\n",
       "      <th>Labor_Cost</th>\n",
       "      <th>Game_Revenue</th>\n",
       "      <th>Go_Live_Date</th>\n",
       "      <th>Franchise</th>\n",
       "      <th>State</th>\n",
       "      <th>Presto_Devices_Installed</th>\n",
       "      <th>Go_Live_Year</th>\n",
       "      <th>Go_Live_Month</th>\n",
       "      <th>Game_Revenue_Value</th>\n",
       "    </tr>\n",
       "  </thead>\n",
       "  <tbody>\n",
       "    <tr>\n",
       "      <th>0</th>\n",
       "      <td>OR - 04</td>\n",
       "      <td>7/10/2014 12:00:00 AM</td>\n",
       "      <td>2014</td>\n",
       "      <td>7</td>\n",
       "      <td>3923.00</td>\n",
       "      <td>156</td>\n",
       "      <td>662.8000</td>\n",
       "      <td>16</td>\n",
       "      <td>5/4/2014 12:00:00 AM</td>\n",
       "      <td>Western Food Group</td>\n",
       "      <td>OR</td>\n",
       "      <td>40</td>\n",
       "      <td>2014</td>\n",
       "      <td>5</td>\n",
       "      <td>16.0000</td>\n",
       "    </tr>\n",
       "    <tr>\n",
       "      <th>1</th>\n",
       "      <td>AL - 04</td>\n",
       "      <td>8/1/2014 12:00:00 AM</td>\n",
       "      <td>2014</td>\n",
       "      <td>8</td>\n",
       "      <td>8160.00</td>\n",
       "      <td>297</td>\n",
       "      <td>1347.3700</td>\n",
       "      <td>n/a</td>\n",
       "      <td>12/1/2014 12:00:00 AM</td>\n",
       "      <td>Southern Group</td>\n",
       "      <td>AL</td>\n",
       "      <td>38</td>\n",
       "      <td>2014</td>\n",
       "      <td>12</td>\n",
       "      <td>0.0000</td>\n",
       "    </tr>\n",
       "    <tr>\n",
       "      <th>2</th>\n",
       "      <td>WA - 05</td>\n",
       "      <td>1/1/2014 12:00:00 AM</td>\n",
       "      <td>2014</td>\n",
       "      <td>1</td>\n",
       "      <td>2803.00</td>\n",
       "      <td>92</td>\n",
       "      <td>939.0600</td>\n",
       "      <td>n/a</td>\n",
       "      <td>7/1/2014 12:00:00 AM</td>\n",
       "      <td>Western Food Group</td>\n",
       "      <td>WA</td>\n",
       "      <td>38</td>\n",
       "      <td>2014</td>\n",
       "      <td>7</td>\n",
       "      <td>0.0000</td>\n",
       "    </tr>\n",
       "    <tr>\n",
       "      <th>3</th>\n",
       "      <td>AZ - 12</td>\n",
       "      <td>3/8/2015 12:00:00 AM</td>\n",
       "      <td>2015</td>\n",
       "      <td>3</td>\n",
       "      <td>4110.34</td>\n",
       "      <td>179</td>\n",
       "      <td>580.3461</td>\n",
       "      <td>17.9167</td>\n",
       "      <td>10/6/2014 12:00:00 AM</td>\n",
       "      <td>Western Food Group</td>\n",
       "      <td>AZ</td>\n",
       "      <td>50</td>\n",
       "      <td>2014</td>\n",
       "      <td>10</td>\n",
       "      <td>17.9167</td>\n",
       "    </tr>\n",
       "    <tr>\n",
       "      <th>4</th>\n",
       "      <td>Ca - 13</td>\n",
       "      <td>7/3/2014 12:00:00 AM</td>\n",
       "      <td>2014</td>\n",
       "      <td>7</td>\n",
       "      <td>4696.08</td>\n",
       "      <td>202</td>\n",
       "      <td>829.0617</td>\n",
       "      <td>19.8333</td>\n",
       "      <td>3/17/2014 12:00:00 AM</td>\n",
       "      <td>Western Food Group</td>\n",
       "      <td>CA</td>\n",
       "      <td>50</td>\n",
       "      <td>2014</td>\n",
       "      <td>3</td>\n",
       "      <td>19.8333</td>\n",
       "    </tr>\n",
       "  </tbody>\n",
       "</table>\n",
       "</div>"
      ],
      "text/plain": [
       "  Restaurant_Name                   Date  Year  Month  Net_Sales  POS_Checks  \\\n",
       "0         OR - 04  7/10/2014 12:00:00 AM  2014      7    3923.00         156   \n",
       "1         AL - 04   8/1/2014 12:00:00 AM  2014      8    8160.00         297   \n",
       "2         WA - 05   1/1/2014 12:00:00 AM  2014      1    2803.00          92   \n",
       "3         AZ - 12   3/8/2015 12:00:00 AM  2015      3    4110.34         179   \n",
       "4         Ca - 13   7/3/2014 12:00:00 AM  2014      7    4696.08         202   \n",
       "\n",
       "   Labor_Cost Game_Revenue           Go_Live_Date           Franchise State  \\\n",
       "0    662.8000           16   5/4/2014 12:00:00 AM  Western Food Group    OR   \n",
       "1   1347.3700          n/a  12/1/2014 12:00:00 AM      Southern Group    AL   \n",
       "2    939.0600          n/a   7/1/2014 12:00:00 AM  Western Food Group    WA   \n",
       "3    580.3461      17.9167  10/6/2014 12:00:00 AM  Western Food Group    AZ   \n",
       "4    829.0617      19.8333  3/17/2014 12:00:00 AM  Western Food Group    CA   \n",
       "\n",
       "   Presto_Devices_Installed  Go_Live_Year  Go_Live_Month  Game_Revenue_Value  \n",
       "0                        40          2014              5             16.0000  \n",
       "1                        38          2014             12              0.0000  \n",
       "2                        38          2014              7              0.0000  \n",
       "3                        50          2014             10             17.9167  \n",
       "4                        50          2014              3             19.8333  "
      ]
     },
     "execution_count": 6,
     "metadata": {},
     "output_type": "execute_result"
    }
   ],
   "source": [
    "r.head()"
   ]
  },
  {
   "cell_type": "code",
   "execution_count": 11,
   "metadata": {
    "collapsed": false
   },
   "outputs": [],
   "source": [
    "r1=r.drop(['Restaurant_Name','Date','Month','Go_Live_Date','State','Go_Live_Month','Game_Revenue'], axis=1)"
   ]
  },
  {
   "cell_type": "code",
   "execution_count": 12,
   "metadata": {
    "collapsed": false,
    "scrolled": true
   },
   "outputs": [
    {
     "data": {
      "text/html": [
       "<div>\n",
       "<table border=\"1\" class=\"dataframe\">\n",
       "  <thead>\n",
       "    <tr style=\"text-align: right;\">\n",
       "      <th></th>\n",
       "      <th>Year</th>\n",
       "      <th>Net_Sales</th>\n",
       "      <th>POS_Checks</th>\n",
       "      <th>Labor_Cost</th>\n",
       "      <th>Franchise</th>\n",
       "      <th>Presto_Devices_Installed</th>\n",
       "      <th>Go_Live_Year</th>\n",
       "      <th>Game_Revenue_Value</th>\n",
       "    </tr>\n",
       "  </thead>\n",
       "  <tbody>\n",
       "    <tr>\n",
       "      <th>0</th>\n",
       "      <td>2014</td>\n",
       "      <td>3923.00</td>\n",
       "      <td>156</td>\n",
       "      <td>662.8000</td>\n",
       "      <td>Western Food Group</td>\n",
       "      <td>40</td>\n",
       "      <td>2014</td>\n",
       "      <td>16.0000</td>\n",
       "    </tr>\n",
       "    <tr>\n",
       "      <th>1</th>\n",
       "      <td>2014</td>\n",
       "      <td>8160.00</td>\n",
       "      <td>297</td>\n",
       "      <td>1347.3700</td>\n",
       "      <td>Southern Group</td>\n",
       "      <td>38</td>\n",
       "      <td>2014</td>\n",
       "      <td>0.0000</td>\n",
       "    </tr>\n",
       "    <tr>\n",
       "      <th>2</th>\n",
       "      <td>2014</td>\n",
       "      <td>2803.00</td>\n",
       "      <td>92</td>\n",
       "      <td>939.0600</td>\n",
       "      <td>Western Food Group</td>\n",
       "      <td>38</td>\n",
       "      <td>2014</td>\n",
       "      <td>0.0000</td>\n",
       "    </tr>\n",
       "    <tr>\n",
       "      <th>3</th>\n",
       "      <td>2015</td>\n",
       "      <td>4110.34</td>\n",
       "      <td>179</td>\n",
       "      <td>580.3461</td>\n",
       "      <td>Western Food Group</td>\n",
       "      <td>50</td>\n",
       "      <td>2014</td>\n",
       "      <td>17.9167</td>\n",
       "    </tr>\n",
       "    <tr>\n",
       "      <th>4</th>\n",
       "      <td>2014</td>\n",
       "      <td>4696.08</td>\n",
       "      <td>202</td>\n",
       "      <td>829.0617</td>\n",
       "      <td>Western Food Group</td>\n",
       "      <td>50</td>\n",
       "      <td>2014</td>\n",
       "      <td>19.8333</td>\n",
       "    </tr>\n",
       "  </tbody>\n",
       "</table>\n",
       "</div>"
      ],
      "text/plain": [
       "   Year  Net_Sales  POS_Checks  Labor_Cost           Franchise  \\\n",
       "0  2014    3923.00         156    662.8000  Western Food Group   \n",
       "1  2014    8160.00         297   1347.3700      Southern Group   \n",
       "2  2014    2803.00          92    939.0600  Western Food Group   \n",
       "3  2015    4110.34         179    580.3461  Western Food Group   \n",
       "4  2014    4696.08         202    829.0617  Western Food Group   \n",
       "\n",
       "   Presto_Devices_Installed  Go_Live_Year  Game_Revenue_Value  \n",
       "0                        40          2014             16.0000  \n",
       "1                        38          2014              0.0000  \n",
       "2                        38          2014              0.0000  \n",
       "3                        50          2014             17.9167  \n",
       "4                        50          2014             19.8333  "
      ]
     },
     "execution_count": 12,
     "metadata": {},
     "output_type": "execute_result"
    }
   ],
   "source": [
    "r1.head()"
   ]
  },
  {
   "cell_type": "code",
   "execution_count": 16,
   "metadata": {
    "collapsed": true
   },
   "outputs": [],
   "source": [
    "r2=r1[r1.Year==2014]"
   ]
  },
  {
   "cell_type": "code",
   "execution_count": 18,
   "metadata": {
    "collapsed": false,
    "scrolled": true
   },
   "outputs": [
    {
     "data": {
      "text/html": [
       "<div>\n",
       "<table border=\"1\" class=\"dataframe\">\n",
       "  <thead>\n",
       "    <tr style=\"text-align: right;\">\n",
       "      <th></th>\n",
       "      <th>Year</th>\n",
       "      <th>Net_Sales</th>\n",
       "      <th>POS_Checks</th>\n",
       "      <th>Labor_Cost</th>\n",
       "      <th>Franchise</th>\n",
       "      <th>Presto_Devices_Installed</th>\n",
       "      <th>Go_Live_Year</th>\n",
       "      <th>Game_Revenue_Value</th>\n",
       "    </tr>\n",
       "  </thead>\n",
       "  <tbody>\n",
       "    <tr>\n",
       "      <th>9</th>\n",
       "      <td>2014</td>\n",
       "      <td>456</td>\n",
       "      <td>15</td>\n",
       "      <td>190.06</td>\n",
       "      <td>Southern Group</td>\n",
       "      <td>53</td>\n",
       "      <td>2013</td>\n",
       "      <td>4.2500</td>\n",
       "    </tr>\n",
       "    <tr>\n",
       "      <th>11</th>\n",
       "      <td>2014</td>\n",
       "      <td>3950</td>\n",
       "      <td>214</td>\n",
       "      <td>804.47</td>\n",
       "      <td>Central Foods</td>\n",
       "      <td>52</td>\n",
       "      <td>2013</td>\n",
       "      <td>20.8333</td>\n",
       "    </tr>\n",
       "    <tr>\n",
       "      <th>12</th>\n",
       "      <td>2014</td>\n",
       "      <td>2610</td>\n",
       "      <td>143</td>\n",
       "      <td>710.63</td>\n",
       "      <td>Central Foods</td>\n",
       "      <td>50</td>\n",
       "      <td>2013</td>\n",
       "      <td>14.9167</td>\n",
       "    </tr>\n",
       "    <tr>\n",
       "      <th>14</th>\n",
       "      <td>2014</td>\n",
       "      <td>2982</td>\n",
       "      <td>111</td>\n",
       "      <td>398.94</td>\n",
       "      <td>Central Foods</td>\n",
       "      <td>41</td>\n",
       "      <td>2013</td>\n",
       "      <td>12.2500</td>\n",
       "    </tr>\n",
       "    <tr>\n",
       "      <th>15</th>\n",
       "      <td>2014</td>\n",
       "      <td>2386</td>\n",
       "      <td>84</td>\n",
       "      <td>435.66</td>\n",
       "      <td>Central Foods</td>\n",
       "      <td>45</td>\n",
       "      <td>2013</td>\n",
       "      <td>10.0000</td>\n",
       "    </tr>\n",
       "  </tbody>\n",
       "</table>\n",
       "</div>"
      ],
      "text/plain": [
       "    Year  Net_Sales  POS_Checks  Labor_Cost       Franchise  \\\n",
       "9   2014        456          15      190.06  Southern Group   \n",
       "11  2014       3950         214      804.47   Central Foods   \n",
       "12  2014       2610         143      710.63   Central Foods   \n",
       "14  2014       2982         111      398.94   Central Foods   \n",
       "15  2014       2386          84      435.66   Central Foods   \n",
       "\n",
       "    Presto_Devices_Installed  Go_Live_Year  Game_Revenue_Value  \n",
       "9                         53          2013              4.2500  \n",
       "11                        52          2013             20.8333  \n",
       "12                        50          2013             14.9167  \n",
       "14                        41          2013             12.2500  \n",
       "15                        45          2013             10.0000  "
      ]
     },
     "execution_count": 18,
     "metadata": {},
     "output_type": "execute_result"
    }
   ],
   "source": [
    "r2=r2[r2.Go_Live_Year<2014]\n"
   ]
  },
  {
   "cell_type": "code",
   "execution_count": 20,
   "metadata": {
    "collapsed": false
   },
   "outputs": [],
   "source": [
    "r2_dummies = pd.get_dummies(r2['Franchise'])"
   ]
  },
  {
   "cell_type": "code",
   "execution_count": 23,
   "metadata": {
    "collapsed": false
   },
   "outputs": [
    {
     "data": {
      "text/html": [
       "<div>\n",
       "<table border=\"1\" class=\"dataframe\">\n",
       "  <thead>\n",
       "    <tr style=\"text-align: right;\">\n",
       "      <th></th>\n",
       "      <th>Central Foods</th>\n",
       "      <th>Southern Group</th>\n",
       "      <th>Western Food Group</th>\n",
       "    </tr>\n",
       "  </thead>\n",
       "  <tbody>\n",
       "    <tr>\n",
       "      <th>9</th>\n",
       "      <td>0</td>\n",
       "      <td>1</td>\n",
       "      <td>0</td>\n",
       "    </tr>\n",
       "    <tr>\n",
       "      <th>11</th>\n",
       "      <td>1</td>\n",
       "      <td>0</td>\n",
       "      <td>0</td>\n",
       "    </tr>\n",
       "    <tr>\n",
       "      <th>12</th>\n",
       "      <td>1</td>\n",
       "      <td>0</td>\n",
       "      <td>0</td>\n",
       "    </tr>\n",
       "    <tr>\n",
       "      <th>14</th>\n",
       "      <td>1</td>\n",
       "      <td>0</td>\n",
       "      <td>0</td>\n",
       "    </tr>\n",
       "    <tr>\n",
       "      <th>15</th>\n",
       "      <td>1</td>\n",
       "      <td>0</td>\n",
       "      <td>0</td>\n",
       "    </tr>\n",
       "  </tbody>\n",
       "</table>\n",
       "</div>"
      ],
      "text/plain": [
       "    Central Foods  Southern Group  Western Food Group\n",
       "9               0               1                   0\n",
       "11              1               0                   0\n",
       "12              1               0                   0\n",
       "14              1               0                   0\n",
       "15              1               0                   0"
      ]
     },
     "execution_count": 23,
     "metadata": {},
     "output_type": "execute_result"
    }
   ],
   "source": [
    "r2_dummies.head()"
   ]
  },
  {
   "cell_type": "code",
   "execution_count": 25,
   "metadata": {
    "collapsed": false
   },
   "outputs": [
    {
     "data": {
      "text/html": [
       "<div>\n",
       "<table border=\"1\" class=\"dataframe\">\n",
       "  <thead>\n",
       "    <tr style=\"text-align: right;\">\n",
       "      <th></th>\n",
       "      <th>Year</th>\n",
       "      <th>Net_Sales</th>\n",
       "      <th>POS_Checks</th>\n",
       "      <th>Labor_Cost</th>\n",
       "      <th>Presto_Devices_Installed</th>\n",
       "      <th>Go_Live_Year</th>\n",
       "      <th>Game_Revenue_Value</th>\n",
       "    </tr>\n",
       "  </thead>\n",
       "  <tbody>\n",
       "    <tr>\n",
       "      <th>9</th>\n",
       "      <td>2014</td>\n",
       "      <td>456</td>\n",
       "      <td>15</td>\n",
       "      <td>190.06</td>\n",
       "      <td>53</td>\n",
       "      <td>2013</td>\n",
       "      <td>4.2500</td>\n",
       "    </tr>\n",
       "    <tr>\n",
       "      <th>11</th>\n",
       "      <td>2014</td>\n",
       "      <td>3950</td>\n",
       "      <td>214</td>\n",
       "      <td>804.47</td>\n",
       "      <td>52</td>\n",
       "      <td>2013</td>\n",
       "      <td>20.8333</td>\n",
       "    </tr>\n",
       "    <tr>\n",
       "      <th>12</th>\n",
       "      <td>2014</td>\n",
       "      <td>2610</td>\n",
       "      <td>143</td>\n",
       "      <td>710.63</td>\n",
       "      <td>50</td>\n",
       "      <td>2013</td>\n",
       "      <td>14.9167</td>\n",
       "    </tr>\n",
       "    <tr>\n",
       "      <th>14</th>\n",
       "      <td>2014</td>\n",
       "      <td>2982</td>\n",
       "      <td>111</td>\n",
       "      <td>398.94</td>\n",
       "      <td>41</td>\n",
       "      <td>2013</td>\n",
       "      <td>12.2500</td>\n",
       "    </tr>\n",
       "    <tr>\n",
       "      <th>15</th>\n",
       "      <td>2014</td>\n",
       "      <td>2386</td>\n",
       "      <td>84</td>\n",
       "      <td>435.66</td>\n",
       "      <td>45</td>\n",
       "      <td>2013</td>\n",
       "      <td>10.0000</td>\n",
       "    </tr>\n",
       "  </tbody>\n",
       "</table>\n",
       "</div>"
      ],
      "text/plain": [
       "    Year  Net_Sales  POS_Checks  Labor_Cost  Presto_Devices_Installed  \\\n",
       "9   2014        456          15      190.06                        53   \n",
       "11  2014       3950         214      804.47                        52   \n",
       "12  2014       2610         143      710.63                        50   \n",
       "14  2014       2982         111      398.94                        41   \n",
       "15  2014       2386          84      435.66                        45   \n",
       "\n",
       "    Go_Live_Year  Game_Revenue_Value  \n",
       "9           2013              4.2500  \n",
       "11          2013             20.8333  \n",
       "12          2013             14.9167  \n",
       "14          2013             12.2500  \n",
       "15          2013             10.0000  "
      ]
     },
     "execution_count": 25,
     "metadata": {},
     "output_type": "execute_result"
    }
   ],
   "source": [
    "r2_dummies.columns = ['Central_Foods','Southern_Group','Western_Food_Group']\n",
    "r3 = r2.drop(['Franchise'],axis=1)\n",
    "r3.head()\n"
   ]
  },
  {
   "cell_type": "code",
   "execution_count": 26,
   "metadata": {
    "collapsed": false
   },
   "outputs": [
    {
     "data": {
      "text/html": [
       "<div>\n",
       "<table border=\"1\" class=\"dataframe\">\n",
       "  <thead>\n",
       "    <tr style=\"text-align: right;\">\n",
       "      <th></th>\n",
       "      <th>Year</th>\n",
       "      <th>Net_Sales</th>\n",
       "      <th>POS_Checks</th>\n",
       "      <th>Labor_Cost</th>\n",
       "      <th>Presto_Devices_Installed</th>\n",
       "      <th>Go_Live_Year</th>\n",
       "      <th>Game_Revenue_Value</th>\n",
       "      <th>Central_Foods</th>\n",
       "      <th>Southern_Group</th>\n",
       "      <th>Western_Food_Group</th>\n",
       "    </tr>\n",
       "  </thead>\n",
       "  <tbody>\n",
       "    <tr>\n",
       "      <th>9</th>\n",
       "      <td>2014</td>\n",
       "      <td>456</td>\n",
       "      <td>15</td>\n",
       "      <td>190.06</td>\n",
       "      <td>53</td>\n",
       "      <td>2013</td>\n",
       "      <td>4.2500</td>\n",
       "      <td>0</td>\n",
       "      <td>1</td>\n",
       "      <td>0</td>\n",
       "    </tr>\n",
       "    <tr>\n",
       "      <th>11</th>\n",
       "      <td>2014</td>\n",
       "      <td>3950</td>\n",
       "      <td>214</td>\n",
       "      <td>804.47</td>\n",
       "      <td>52</td>\n",
       "      <td>2013</td>\n",
       "      <td>20.8333</td>\n",
       "      <td>1</td>\n",
       "      <td>0</td>\n",
       "      <td>0</td>\n",
       "    </tr>\n",
       "    <tr>\n",
       "      <th>12</th>\n",
       "      <td>2014</td>\n",
       "      <td>2610</td>\n",
       "      <td>143</td>\n",
       "      <td>710.63</td>\n",
       "      <td>50</td>\n",
       "      <td>2013</td>\n",
       "      <td>14.9167</td>\n",
       "      <td>1</td>\n",
       "      <td>0</td>\n",
       "      <td>0</td>\n",
       "    </tr>\n",
       "    <tr>\n",
       "      <th>14</th>\n",
       "      <td>2014</td>\n",
       "      <td>2982</td>\n",
       "      <td>111</td>\n",
       "      <td>398.94</td>\n",
       "      <td>41</td>\n",
       "      <td>2013</td>\n",
       "      <td>12.2500</td>\n",
       "      <td>1</td>\n",
       "      <td>0</td>\n",
       "      <td>0</td>\n",
       "    </tr>\n",
       "    <tr>\n",
       "      <th>15</th>\n",
       "      <td>2014</td>\n",
       "      <td>2386</td>\n",
       "      <td>84</td>\n",
       "      <td>435.66</td>\n",
       "      <td>45</td>\n",
       "      <td>2013</td>\n",
       "      <td>10.0000</td>\n",
       "      <td>1</td>\n",
       "      <td>0</td>\n",
       "      <td>0</td>\n",
       "    </tr>\n",
       "  </tbody>\n",
       "</table>\n",
       "</div>"
      ],
      "text/plain": [
       "    Year  Net_Sales  POS_Checks  Labor_Cost  Presto_Devices_Installed  \\\n",
       "9   2014        456          15      190.06                        53   \n",
       "11  2014       3950         214      804.47                        52   \n",
       "12  2014       2610         143      710.63                        50   \n",
       "14  2014       2982         111      398.94                        41   \n",
       "15  2014       2386          84      435.66                        45   \n",
       "\n",
       "    Go_Live_Year  Game_Revenue_Value  Central_Foods  Southern_Group  \\\n",
       "9           2013              4.2500              0               1   \n",
       "11          2013             20.8333              1               0   \n",
       "12          2013             14.9167              1               0   \n",
       "14          2013             12.2500              1               0   \n",
       "15          2013             10.0000              1               0   \n",
       "\n",
       "    Western_Food_Group  \n",
       "9                    0  \n",
       "11                   0  \n",
       "12                   0  \n",
       "14                   0  \n",
       "15                   0  "
      ]
     },
     "execution_count": 26,
     "metadata": {},
     "output_type": "execute_result"
    }
   ],
   "source": [
    "r3 = pd.concat([r3,r2_dummies],axis=1)\n",
    "r3.head()\n"
   ]
  },
  {
   "cell_type": "code",
   "execution_count": 28,
   "metadata": {
    "collapsed": false
   },
   "outputs": [
    {
     "data": {
      "text/plain": [
       "9      4.2500\n",
       "11    20.8333\n",
       "12    14.9167\n",
       "14    12.2500\n",
       "15    10.0000\n",
       "Name: Game_Revenue_Value, dtype: float64"
      ]
     },
     "execution_count": 28,
     "metadata": {},
     "output_type": "execute_result"
    }
   ],
   "source": [
    "Y = r3.Game_Revenue_Value\n",
    "Y.head()"
   ]
  },
  {
   "cell_type": "code",
   "execution_count": 29,
   "metadata": {
    "collapsed": true
   },
   "outputs": [],
   "source": [
    "Y = np.ravel(Y)"
   ]
  },
  {
   "cell_type": "code",
   "execution_count": 30,
   "metadata": {
    "collapsed": false
   },
   "outputs": [
    {
     "data": {
      "text/plain": [
       "array([  4.25  ,  20.8333,  14.9167, ...,  14.5   ,  17.6667,  12.9167])"
      ]
     },
     "execution_count": 30,
     "metadata": {},
     "output_type": "execute_result"
    }
   ],
   "source": [
    "Y"
   ]
  },
  {
   "cell_type": "code",
   "execution_count": 33,
   "metadata": {
    "collapsed": false
   },
   "outputs": [
    {
     "data": {
      "text/html": [
       "<div>\n",
       "<table border=\"1\" class=\"dataframe\">\n",
       "  <thead>\n",
       "    <tr style=\"text-align: right;\">\n",
       "      <th></th>\n",
       "      <th>Net_Sales</th>\n",
       "      <th>POS_Checks</th>\n",
       "      <th>Labor_Cost</th>\n",
       "      <th>Presto_Devices_Installed</th>\n",
       "      <th>Go_Live_Year</th>\n",
       "      <th>Central_Foods</th>\n",
       "      <th>Southern_Group</th>\n",
       "      <th>Western_Food_Group</th>\n",
       "    </tr>\n",
       "  </thead>\n",
       "  <tbody>\n",
       "    <tr>\n",
       "      <th>9</th>\n",
       "      <td>456</td>\n",
       "      <td>15</td>\n",
       "      <td>190.06</td>\n",
       "      <td>53</td>\n",
       "      <td>2013</td>\n",
       "      <td>0</td>\n",
       "      <td>1</td>\n",
       "      <td>0</td>\n",
       "    </tr>\n",
       "    <tr>\n",
       "      <th>11</th>\n",
       "      <td>3950</td>\n",
       "      <td>214</td>\n",
       "      <td>804.47</td>\n",
       "      <td>52</td>\n",
       "      <td>2013</td>\n",
       "      <td>1</td>\n",
       "      <td>0</td>\n",
       "      <td>0</td>\n",
       "    </tr>\n",
       "    <tr>\n",
       "      <th>12</th>\n",
       "      <td>2610</td>\n",
       "      <td>143</td>\n",
       "      <td>710.63</td>\n",
       "      <td>50</td>\n",
       "      <td>2013</td>\n",
       "      <td>1</td>\n",
       "      <td>0</td>\n",
       "      <td>0</td>\n",
       "    </tr>\n",
       "    <tr>\n",
       "      <th>14</th>\n",
       "      <td>2982</td>\n",
       "      <td>111</td>\n",
       "      <td>398.94</td>\n",
       "      <td>41</td>\n",
       "      <td>2013</td>\n",
       "      <td>1</td>\n",
       "      <td>0</td>\n",
       "      <td>0</td>\n",
       "    </tr>\n",
       "    <tr>\n",
       "      <th>15</th>\n",
       "      <td>2386</td>\n",
       "      <td>84</td>\n",
       "      <td>435.66</td>\n",
       "      <td>45</td>\n",
       "      <td>2013</td>\n",
       "      <td>1</td>\n",
       "      <td>0</td>\n",
       "      <td>0</td>\n",
       "    </tr>\n",
       "  </tbody>\n",
       "</table>\n",
       "</div>"
      ],
      "text/plain": [
       "    Net_Sales  POS_Checks  Labor_Cost  Presto_Devices_Installed  Go_Live_Year  \\\n",
       "9         456          15      190.06                        53          2013   \n",
       "11       3950         214      804.47                        52          2013   \n",
       "12       2610         143      710.63                        50          2013   \n",
       "14       2982         111      398.94                        41          2013   \n",
       "15       2386          84      435.66                        45          2013   \n",
       "\n",
       "    Central_Foods  Southern_Group  Western_Food_Group  \n",
       "9               0               1                   0  \n",
       "11              1               0                   0  \n",
       "12              1               0                   0  \n",
       "14              1               0                   0  \n",
       "15              1               0                   0  "
      ]
     },
     "execution_count": 33,
     "metadata": {},
     "output_type": "execute_result"
    }
   ],
   "source": [
    "X = r3.drop(['Game_Revenue_Value','Year'],axis=1)\n",
    "\n",
    "X.head()\n"
   ]
  },
  {
   "cell_type": "code",
   "execution_count": 39,
   "metadata": {
    "collapsed": false
   },
   "outputs": [
    {
     "data": {
      "text/plain": [
       "0.99999999995746236"
      ]
     },
     "execution_count": 39,
     "metadata": {},
     "output_type": "execute_result"
    }
   ],
   "source": [
    "import sklearn\n",
    "from sklearn.linear_model import LinearRegression\n",
    "linear_model = LinearRegression()\n",
    "\n",
    "# Fit our data\n",
    "linear_model.fit(X,Y)\n",
    "\n",
    "# Check our accuracy\n",
    "linear_model.score(X,Y)"
   ]
  },
  {
   "cell_type": "code",
   "execution_count": 40,
   "metadata": {
    "collapsed": false
   },
   "outputs": [
    {
     "data": {
      "text/plain": [
       "14.137384340845344"
      ]
     },
     "execution_count": 40,
     "metadata": {},
     "output_type": "execute_result"
    }
   ],
   "source": [
    "Y.mean()"
   ]
  },
  {
   "cell_type": "code",
   "execution_count": 41,
   "metadata": {
    "collapsed": false
   },
   "outputs": [
    {
     "data": {
      "text/html": [
       "<div>\n",
       "<table border=\"1\" class=\"dataframe\">\n",
       "  <thead>\n",
       "    <tr style=\"text-align: right;\">\n",
       "      <th></th>\n",
       "      <th>0</th>\n",
       "      <th>1</th>\n",
       "    </tr>\n",
       "  </thead>\n",
       "  <tbody>\n",
       "    <tr>\n",
       "      <th>0</th>\n",
       "      <td>Net_Sales</td>\n",
       "      <td>-5.424405e-10</td>\n",
       "    </tr>\n",
       "    <tr>\n",
       "      <th>1</th>\n",
       "      <td>POS_Checks</td>\n",
       "      <td>8.333334e-02</td>\n",
       "    </tr>\n",
       "    <tr>\n",
       "      <th>2</th>\n",
       "      <td>Labor_Cost</td>\n",
       "      <td>3.276465e-10</td>\n",
       "    </tr>\n",
       "    <tr>\n",
       "      <th>3</th>\n",
       "      <td>Presto_Devices_Installed</td>\n",
       "      <td>-9.290364e-08</td>\n",
       "    </tr>\n",
       "    <tr>\n",
       "      <th>4</th>\n",
       "      <td>Go_Live_Year</td>\n",
       "      <td>-2.522707e-06</td>\n",
       "    </tr>\n",
       "    <tr>\n",
       "      <th>5</th>\n",
       "      <td>Central_Foods</td>\n",
       "      <td>6.472393e-09</td>\n",
       "    </tr>\n",
       "    <tr>\n",
       "      <th>6</th>\n",
       "      <td>Southern_Group</td>\n",
       "      <td>2.887834e-07</td>\n",
       "    </tr>\n",
       "    <tr>\n",
       "      <th>7</th>\n",
       "      <td>Western_Food_Group</td>\n",
       "      <td>-2.952558e-07</td>\n",
       "    </tr>\n",
       "  </tbody>\n",
       "</table>\n",
       "</div>"
      ],
      "text/plain": [
       "                          0             1\n",
       "0                 Net_Sales -5.424405e-10\n",
       "1                POS_Checks  8.333334e-02\n",
       "2                Labor_Cost  3.276465e-10\n",
       "3  Presto_Devices_Installed -9.290364e-08\n",
       "4              Go_Live_Year -2.522707e-06\n",
       "5             Central_Foods  6.472393e-09\n",
       "6            Southern_Group  2.887834e-07\n",
       "7        Western_Food_Group -2.952558e-07"
      ]
     },
     "execution_count": 41,
     "metadata": {},
     "output_type": "execute_result"
    }
   ],
   "source": [
    "# Use zip to bring the column names \n",
    "#and the np.transpose function to bring together the coefficients from the model\n",
    "#\"transpose\" is used to allaign our coefficient from rows to columns\n",
    "coeff_df = DataFrame(zip(X.columns, np.transpose(linear_model.coef_)))\n",
    "#the new seaborn treat assignment as just an assignment without printing\n",
    "coeff_df"
   ]
  },
  {
   "cell_type": "code",
   "execution_count": 57,
   "metadata": {
    "collapsed": false
   },
   "outputs": [
    {
     "data": {
      "text/plain": [
       "LinearRegression(copy_X=True, fit_intercept=True, n_jobs=1, normalize=False)"
      ]
     },
     "execution_count": 57,
     "metadata": {},
     "output_type": "execute_result"
    }
   ],
   "source": [
    "# Split the data\n",
    "X_train, X_test, Y_train, Y_test = train_test_split(X, Y)\n",
    "\n",
    "# Make a new model\n",
    "linear_model2 = LinearRegression()\n",
    "\n",
    "# Now fit the new model\n",
    "linear_model2.fit(X_train, Y_train)"
   ]
  },
  {
   "cell_type": "code",
   "execution_count": 58,
   "metadata": {
    "collapsed": false
   },
   "outputs": [],
   "source": [
    "pred_train = linear_model2.predict(X_train)\n",
    "pred_test = linear_model2.predict(X_test)"
   ]
  },
  {
   "cell_type": "code",
   "execution_count": 59,
   "metadata": {
    "collapsed": false
   },
   "outputs": [
    {
     "name": "stdout",
     "output_type": "stream",
     "text": [
      "Fit a model X_train, and calculate MSE with Y_train: 0.00\n",
      "Fit a model X_train, and calculate MSE with X_test and Y_test: 0.00\n"
     ]
    }
   ],
   "source": [
    "print \"Fit a model X_train, and calculate MSE with Y_train: %.2f\"  % np.mean((Y_train - pred_train) ** 2)\n",
    "\n",
    "print \"Fit a model X_train, and calculate MSE with X_test and Y_test: %.2f\"  %np.mean((Y_test - pred_test) ** 2)"
   ]
  },
  {
   "cell_type": "code",
   "execution_count": 64,
   "metadata": {
    "collapsed": false
   },
   "outputs": [
    {
     "data": {
      "text/plain": [
       "<matplotlib.text.Text at 0x25a73710>"
      ]
     },
     "execution_count": 64,
     "metadata": {},
     "output_type": "execute_result"
    },
    {
     "data": {
      "image/png": "[encoded data removed]",
      "text/plain": [
       "<matplotlib.figure.Figure at 0x257e3438>"
      ]
     },
     "metadata": {},
     "output_type": "display_data"
    }
   ],
   "source": [
    "# Scatter plot the training data\n",
    "#c = 'b' ----color = \"brown\", alpha =1 ----how see-through this is \n",
    "plt.ylim(-0.2,0.2)\n",
    "train = plt.scatter(pred_train,(pred_train-Y_train),c='b',alpha=1)\n",
    "\n",
    "# Scatter plot the testing data\n",
    "test = plt.scatter(pred_test,(pred_test-Y_test),c='r',alpha=1)\n",
    "\n",
    "# Plot a horizontal axis line at 0\n",
    "plt.hlines(y=0,xmin=0,xmax=40)\n",
    "\n",
    "#Labels\n",
    "plt.legend((train,test),('Training','Test'),loc='lower left')\n",
    "plt.title('Residual Plots')\n"
   ]
  },
  {
   "cell_type": "code",
   "execution_count": 65,
   "metadata": {
    "collapsed": false
   },
   "outputs": [
    {
     "name": "stderr",
     "output_type": "stream",
     "text": [
      "C:\\Anaconda\\lib\\site-packages\\seaborn\\linearmodels.py:1283: UserWarning: The `corrplot` function has been deprecated in favor of `heatmap` and will be removed in a forthcoming release. Please update your code.\n",
      "  warnings.warn((\"The `corrplot` function has been deprecated in favor \"\n",
      "C:\\Anaconda\\lib\\site-packages\\seaborn\\linearmodels.py:1349: UserWarning: The `symmatplot` function has been deprecated in favor of `heatmap` and will be removed in a forthcoming release. Please update your code.\n",
      "  warnings.warn((\"The `symmatplot` function has been deprecated in favor \"\n"
     ]
    },
    {
     "data": {
      "image/png": "[encoded data removed]",
      "text/plain": [
       "<matplotlib.figure.Figure at 0x257e32e8>"
      ]
     },
     "metadata": {},
     "output_type": "display_data"
    }
   ],
   "source": [
    "import seaborn\n",
    "kw = {'axes.edgecolor': '0', 'text.color': '0', 'ytick.color': '0', 'xtick.color': '0',\n",
    "      'ytick.major.size': 5, 'xtick.major.size': 5, 'axes.labelcolor': '0'}\n",
    "\n",
    "seaborn.set_style(\"whitegrid\", kw)\n",
    "\n",
    "ax = seaborn.corrplot(r3, annot=False, diag_names=False)\n"
   ]
  },
  {
   "cell_type": "code",
   "execution_count": 66,
   "metadata": {
    "collapsed": false
   },
   "outputs": [
    {
     "data": {
      "text/html": [
       "<div>\n",
       "<table border=\"1\" class=\"dataframe\">\n",
       "  <thead>\n",
       "    <tr style=\"text-align: right;\">\n",
       "      <th></th>\n",
       "      <th>Year</th>\n",
       "      <th>Net_Sales</th>\n",
       "      <th>Presto_Devices_Installed</th>\n",
       "      <th>Go_Live_Year</th>\n",
       "      <th>Game_Revenue_Value</th>\n",
       "      <th>Southern_Group</th>\n",
       "      <th>Western_Food_Group</th>\n",
       "    </tr>\n",
       "  </thead>\n",
       "  <tbody>\n",
       "    <tr>\n",
       "      <th>9</th>\n",
       "      <td>2014</td>\n",
       "      <td>456</td>\n",
       "      <td>53</td>\n",
       "      <td>2013</td>\n",
       "      <td>4.2500</td>\n",
       "      <td>1</td>\n",
       "      <td>0</td>\n",
       "    </tr>\n",
       "    <tr>\n",
       "      <th>11</th>\n",
       "      <td>2014</td>\n",
       "      <td>3950</td>\n",
       "      <td>52</td>\n",
       "      <td>2013</td>\n",
       "      <td>20.8333</td>\n",
       "      <td>0</td>\n",
       "      <td>0</td>\n",
       "    </tr>\n",
       "    <tr>\n",
       "      <th>12</th>\n",
       "      <td>2014</td>\n",
       "      <td>2610</td>\n",
       "      <td>50</td>\n",
       "      <td>2013</td>\n",
       "      <td>14.9167</td>\n",
       "      <td>0</td>\n",
       "      <td>0</td>\n",
       "    </tr>\n",
       "    <tr>\n",
       "      <th>14</th>\n",
       "      <td>2014</td>\n",
       "      <td>2982</td>\n",
       "      <td>41</td>\n",
       "      <td>2013</td>\n",
       "      <td>12.2500</td>\n",
       "      <td>0</td>\n",
       "      <td>0</td>\n",
       "    </tr>\n",
       "    <tr>\n",
       "      <th>15</th>\n",
       "      <td>2014</td>\n",
       "      <td>2386</td>\n",
       "      <td>45</td>\n",
       "      <td>2013</td>\n",
       "      <td>10.0000</td>\n",
       "      <td>0</td>\n",
       "      <td>0</td>\n",
       "    </tr>\n",
       "  </tbody>\n",
       "</table>\n",
       "</div>"
      ],
      "text/plain": [
       "    Year  Net_Sales  Presto_Devices_Installed  Go_Live_Year  \\\n",
       "9   2014        456                        53          2013   \n",
       "11  2014       3950                        52          2013   \n",
       "12  2014       2610                        50          2013   \n",
       "14  2014       2982                        41          2013   \n",
       "15  2014       2386                        45          2013   \n",
       "\n",
       "    Game_Revenue_Value  Southern_Group  Western_Food_Group  \n",
       "9               4.2500               1                   0  \n",
       "11             20.8333               0                   0  \n",
       "12             14.9167               0                   0  \n",
       "14             12.2500               0                   0  \n",
       "15             10.0000               0                   0  "
      ]
     },
     "execution_count": 66,
     "metadata": {},
     "output_type": "execute_result"
    }
   ],
   "source": [
    "r4=r3.drop(['POS_Checks','Labor_Cost','Central_Foods'], axis=1)\n",
    "r4.head()"
   ]
  },
  {
   "cell_type": "code",
   "execution_count": 67,
   "metadata": {
    "collapsed": false
   },
   "outputs": [
    {
     "data": {
      "image/png": "[encoded data removed]",
      "text/plain": [
       "<matplotlib.figure.Figure at 0x2582cef0>"
      ]
     },
     "metadata": {},
     "output_type": "display_data"
    }
   ],
   "source": [
    "kw = {'axes.edgecolor': '0', 'text.color': '0', 'ytick.color': '0', 'xtick.color': '0',\n",
    "      'ytick.major.size': 5, 'xtick.major.size': 5, 'axes.labelcolor': '0'}\n",
    "\n",
    "seaborn.set_style(\"whitegrid\", kw)\n",
    "\n",
    "ax = seaborn.corrplot(r4, annot=False, diag_names=False)"
   ]
  },
  {
   "cell_type": "code",
   "execution_count": 68,
   "metadata": {
    "collapsed": false
   },
   "outputs": [
    {
     "data": {
      "text/plain": [
       "9      4.2500\n",
       "11    20.8333\n",
       "12    14.9167\n",
       "14    12.2500\n",
       "15    10.0000\n",
       "Name: Game_Revenue_Value, dtype: float64"
      ]
     },
     "execution_count": 68,
     "metadata": {},
     "output_type": "execute_result"
    }
   ],
   "source": [
    "Y = r4.Game_Revenue_Value\n",
    "Y.head()"
   ]
  },
  {
   "cell_type": "code",
   "execution_count": 69,
   "metadata": {
    "collapsed": false
   },
   "outputs": [
    {
     "data": {
      "text/html": [
       "<div>\n",
       "<table border=\"1\" class=\"dataframe\">\n",
       "  <thead>\n",
       "    <tr style=\"text-align: right;\">\n",
       "      <th></th>\n",
       "      <th>Year</th>\n",
       "      <th>Net_Sales</th>\n",
       "      <th>Presto_Devices_Installed</th>\n",
       "      <th>Go_Live_Year</th>\n",
       "      <th>Southern_Group</th>\n",
       "      <th>Western_Food_Group</th>\n",
       "    </tr>\n",
       "  </thead>\n",
       "  <tbody>\n",
       "    <tr>\n",
       "      <th>9</th>\n",
       "      <td>2014</td>\n",
       "      <td>456</td>\n",
       "      <td>53</td>\n",
       "      <td>2013</td>\n",
       "      <td>1</td>\n",
       "      <td>0</td>\n",
       "    </tr>\n",
       "    <tr>\n",
       "      <th>11</th>\n",
       "      <td>2014</td>\n",
       "      <td>3950</td>\n",
       "      <td>52</td>\n",
       "      <td>2013</td>\n",
       "      <td>0</td>\n",
       "      <td>0</td>\n",
       "    </tr>\n",
       "    <tr>\n",
       "      <th>12</th>\n",
       "      <td>2014</td>\n",
       "      <td>2610</td>\n",
       "      <td>50</td>\n",
       "      <td>2013</td>\n",
       "      <td>0</td>\n",
       "      <td>0</td>\n",
       "    </tr>\n",
       "    <tr>\n",
       "      <th>14</th>\n",
       "      <td>2014</td>\n",
       "      <td>2982</td>\n",
       "      <td>41</td>\n",
       "      <td>2013</td>\n",
       "      <td>0</td>\n",
       "      <td>0</td>\n",
       "    </tr>\n",
       "    <tr>\n",
       "      <th>15</th>\n",
       "      <td>2014</td>\n",
       "      <td>2386</td>\n",
       "      <td>45</td>\n",
       "      <td>2013</td>\n",
       "      <td>0</td>\n",
       "      <td>0</td>\n",
       "    </tr>\n",
       "  </tbody>\n",
       "</table>\n",
       "</div>"
      ],
      "text/plain": [
       "    Year  Net_Sales  Presto_Devices_Installed  Go_Live_Year  Southern_Group  \\\n",
       "9   2014        456                        53          2013               1   \n",
       "11  2014       3950                        52          2013               0   \n",
       "12  2014       2610                        50          2013               0   \n",
       "14  2014       2982                        41          2013               0   \n",
       "15  2014       2386                        45          2013               0   \n",
       "\n",
       "    Western_Food_Group  \n",
       "9                    0  \n",
       "11                   0  \n",
       "12                   0  \n",
       "14                   0  \n",
       "15                   0  "
      ]
     },
     "execution_count": 69,
     "metadata": {},
     "output_type": "execute_result"
    }
   ],
   "source": [
    "X = r4.drop(['Game_Revenue_Value'],axis=1)\n",
    "\n",
    "X.head()"
   ]
  },
  {
   "cell_type": "code",
   "execution_count": 70,
   "metadata": {
    "collapsed": false
   },
   "outputs": [
    {
     "data": {
      "text/plain": [
       "0.88722529073604495"
      ]
     },
     "execution_count": 70,
     "metadata": {},
     "output_type": "execute_result"
    }
   ],
   "source": [
    "import sklearn\n",
    "from sklearn.linear_model import LinearRegression\n",
    "\n",
    "linear_model = LinearRegression()\n",
    "\n",
    "# Fit our data\n",
    "linear_model.fit(X,Y)\n",
    "\n",
    "# Check our accuracy\n",
    "linear_model.score(X,Y)"
   ]
  },
  {
   "cell_type": "code",
   "execution_count": 71,
   "metadata": {
    "collapsed": false
   },
   "outputs": [
    {
     "data": {
      "text/plain": [
       "14.137384340845346"
      ]
     },
     "execution_count": 71,
     "metadata": {},
     "output_type": "execute_result"
    }
   ],
   "source": [
    "Y.mean()\n"
   ]
  },
  {
   "cell_type": "code",
   "execution_count": 72,
   "metadata": {
    "collapsed": false
   },
   "outputs": [
    {
     "data": {
      "text/html": [
       "<div>\n",
       "<table border=\"1\" class=\"dataframe\">\n",
       "  <thead>\n",
       "    <tr style=\"text-align: right;\">\n",
       "      <th></th>\n",
       "      <th>0</th>\n",
       "      <th>1</th>\n",
       "    </tr>\n",
       "  </thead>\n",
       "  <tbody>\n",
       "    <tr>\n",
       "      <th>0</th>\n",
       "      <td>Year</td>\n",
       "      <td>0.000000</td>\n",
       "    </tr>\n",
       "    <tr>\n",
       "      <th>1</th>\n",
       "      <td>Net_Sales</td>\n",
       "      <td>0.003168</td>\n",
       "    </tr>\n",
       "    <tr>\n",
       "      <th>2</th>\n",
       "      <td>Presto_Devices_Installed</td>\n",
       "      <td>0.032946</td>\n",
       "    </tr>\n",
       "    <tr>\n",
       "      <th>3</th>\n",
       "      <td>Go_Live_Year</td>\n",
       "      <td>1.468779</td>\n",
       "    </tr>\n",
       "    <tr>\n",
       "      <th>4</th>\n",
       "      <td>Southern_Group</td>\n",
       "      <td>-1.138012</td>\n",
       "    </tr>\n",
       "    <tr>\n",
       "      <th>5</th>\n",
       "      <td>Western_Food_Group</td>\n",
       "      <td>-0.780403</td>\n",
       "    </tr>\n",
       "  </tbody>\n",
       "</table>\n",
       "</div>"
      ],
      "text/plain": [
       "                          0         1\n",
       "0                      Year  0.000000\n",
       "1                 Net_Sales  0.003168\n",
       "2  Presto_Devices_Installed  0.032946\n",
       "3              Go_Live_Year  1.468779\n",
       "4            Southern_Group -1.138012\n",
       "5        Western_Food_Group -0.780403"
      ]
     },
     "execution_count": 72,
     "metadata": {},
     "output_type": "execute_result"
    }
   ],
   "source": [
    "# Use zip to bring the column names \n",
    "#and the np.transpose function to bring together the coefficients from the model\n",
    "#\"transpose\" is used to allaign our coefficient from rows to columns\n",
    "coeff_df = DataFrame(zip(X.columns, np.transpose(linear_model.coef_)))\n",
    "#the new seaborn treat assignment as just an assignment without printing\n",
    "coeff_df"
   ]
  },
  {
   "cell_type": "code",
   "execution_count": 73,
   "metadata": {
    "collapsed": false
   },
   "outputs": [
    {
     "data": {
      "text/plain": [
       "LinearRegression(copy_X=True, fit_intercept=True, n_jobs=1, normalize=False)"
      ]
     },
     "execution_count": 73,
     "metadata": {},
     "output_type": "execute_result"
    }
   ],
   "source": [
    "# Split the data\n",
    "X_train, X_test, Y_train, Y_test = train_test_split(X, Y)\n",
    "\n",
    "# Make a new log_model\n",
    "linear_model2 = LinearRegression()\n",
    "\n",
    "# Now fit the new model\n",
    "linear_model2.fit(X_train, Y_train)"
   ]
  },
  {
   "cell_type": "code",
   "execution_count": 75,
   "metadata": {
    "collapsed": false
   },
   "outputs": [
    {
     "name": "stdout",
     "output_type": "stream",
     "text": [
      "Fit a model X_train, and calculate MSE with Y_train: 35.05\n",
      "Fit a model X_train, and calculate MSE with X_test and Y_test: 36.51\n"
     ]
    }
   ],
   "source": [
    "print \"Fit a model X_train, and calculate MSE with Y_train: %.2f\"  % np.mean((Y_train - pred_train) ** 2)\n",
    "\n",
    "print \"Fit a model X_train, and calculate MSE with X_test and Y_test: %.2f\"  %np.mean((Y_test - pred_test) ** 2)\n"
   ]
  },
  {
   "cell_type": "code",
   "execution_count": 76,
   "metadata": {
    "collapsed": false
   },
   "outputs": [
    {
     "data": {
      "text/plain": [
       "<matplotlib.text.Text at 0x2687a9e8>"
      ]
     },
     "execution_count": 76,
     "metadata": {},
     "output_type": "execute_result"
    },
    {
     "data": {
      "image/png": "[encoded data removed]",
      "text/plain": [
       "<matplotlib.figure.Figure at 0x237f6e10>"
      ]
     },
     "metadata": {},
     "output_type": "display_data"
    }
   ],
   "source": [
    "# Scatter plot the training data\n",
    "#c = 'b' ----color = \"brown\", alpha =1 ----how see-through this is \n",
    "plt.ylim(-0.2,0.2)\n",
    "train = plt.scatter(pred_train,(pred_train-Y_train),c='b',alpha=1)\n",
    "\n",
    "# Scatter plot the testing data\n",
    "test = plt.scatter(pred_test,(pred_test-Y_test),c='r',alpha=1)\n",
    "\n",
    "# Plot a horizontal axis line at 0\n",
    "plt.hlines(y=0,xmin=0,xmax=40)\n",
    "\n",
    "#Labels\n",
    "plt.legend((train,test),('Training','Test'),loc='lower left')\n",
    "plt.title('Residual Plots')"
   ]
  },
  {
   "cell_type": "code",
   "execution_count": null,
   "metadata": {
    "collapsed": true
   },
   "outputs": [],
   "source": []
  }
 ],
 "metadata": {
  "kernelspec": {
   "display_name": "Python 2",
   "language": "python",
   "name": "python2"
  },
  "language_info": {
   "codemirror_mode": {
    "name": "ipython",
    "version": 2
   },
   "file_extension": ".py",
   "mimetype": "text/x-python",
   "name": "python",
   "nbconvert_exporter": "python",
   "pygments_lexer": "ipython2",
   "version": "2.7.10"
  }
 },
 "nbformat": 4,
 "nbformat_minor": 0
}
